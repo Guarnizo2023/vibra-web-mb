{
    "cells": [
        {
            "cell_type": "markdown",
            "metadata": {},
            "source": [
                "# Creación de un Proyecto React Native con Expo y TypeScript\n",
                "En este notebook, aprenderás a configurar un proyecto de React Native usando Expo y TypeScript."
            ]
        },
        {
            "cell_type": "code",
            "execution_count": null,
            "metadata": {
                "vscode": {
                    "languageId": "bat"
                }
            },
            "outputs": [],
            "source": []
        },
        {
            "cell_type": "markdown",
            "metadata": {},
            "source": [
                "## 1. Instalación de Expo CLI\n",
                "Primero, necesitas instalar Expo CLI si aún no lo tienes. Ejecuta el siguiente comando en tu terminal:"
            ]
        },
        {
            "cell_type": "code",
            "execution_count": 1,
            "metadata": {
                "vscode": {
                    "languageId": "bat"
                }
            },
            "outputs": [
                {
                    "name": "stdout",
                    "output_type": "stream",
                    "text": [
                        "\n",
                        "added 1310 packages in 4m\n"
                    ]
                },
                {
                    "name": "stderr",
                    "output_type": "stream",
                    "text": [
                        "npm warn deprecated inflight@1.0.6: This module is not supported, and leaks memory. Do not use it. Check out lru-cache if you want a good and tested way to coalesce async requests by a key value, which is much more comprehensive and powerful.\n",
                        "npm warn deprecated stable@0.1.8: Modern JS already guarantees Array#sort() is a stable sort, so this library is deprecated. See the compatibility table on MDN: https://developer.mozilla.org/en-US/docs/Web/JavaScript/Reference/Global_Objects/Array/sort#browser_compatibility\n",
                        "npm warn deprecated @babel/plugin-proposal-optional-catch-binding@7.18.6: This proposal has been merged to the ECMAScript standard and thus this plugin is no longer maintained. Please use @babel/plugin-transform-optional-catch-binding instead.\n",
                        "npm warn deprecated @babel/plugin-proposal-numeric-separator@7.18.6: This proposal has been merged to the ECMAScript standard and thus this plugin is no longer maintained. Please use @babel/plugin-transform-numeric-separator instead.\n",
                        "npm warn deprecated @babel/plugin-proposal-class-properties@7.18.6: This proposal has been merged to the ECMAScript standard and thus this plugin is no longer maintained. Please use @babel/plugin-transform-class-properties instead.\n",
                        "npm warn deprecated @babel/plugin-proposal-nullish-coalescing-operator@7.18.6: This proposal has been merged to the ECMAScript standard and thus this plugin is no longer maintained. Please use @babel/plugin-transform-nullish-coalescing-operator instead.\n",
                        "npm warn deprecated rimraf@3.0.2: Rimraf versions prior to v4 are no longer supported\n",
                        "npm warn deprecated @babel/plugin-proposal-export-namespace-from@7.18.9: This proposal has been merged to the ECMAScript standard and thus this plugin is no longer maintained. Please use @babel/plugin-transform-export-namespace-from instead.\n",
                        "npm warn deprecated @babel/plugin-proposal-optional-chaining@7.21.0: This proposal has been merged to the ECMAScript standard and thus this plugin is no longer maintained. Please use @babel/plugin-transform-optional-chaining instead.\n",
                        "npm warn deprecated abab@2.0.6: Use your platform's native atob() and btoa() methods instead\n",
                        "npm warn deprecated osenv@0.1.5: This package is no longer supported.\n",
                        "npm warn deprecated @npmcli/move-file@1.1.2: This functionality has been moved to @npmcli/fs\n",
                        "npm warn deprecated rimraf@2.7.1: Rimraf versions prior to v4 are no longer supported\n",
                        "npm warn deprecated @babel/plugin-proposal-async-generator-functions@7.20.7: This proposal has been merged to the ECMAScript standard and thus this plugin is no longer maintained. Please use @babel/plugin-transform-async-generator-functions instead.\n",
                        "npm warn deprecated @babel/plugin-proposal-object-rest-spread@7.20.7: This proposal has been merged to the ECMAScript standard and thus this plugin is no longer maintained. Please use @babel/plugin-transform-object-rest-spread instead.\n",
                        "npm warn deprecated rimraf@2.4.5: Rimraf versions prior to v4 are no longer supported\n",
                        "npm warn deprecated glob@6.0.4: Glob versions prior to v9 are no longer supported\n",
                        "npm warn deprecated glob@7.1.6: Glob versions prior to v9 are no longer supported\n",
                        "npm warn deprecated sudo-prompt@9.1.1: Package no longer supported. Contact Support at https://www.npmjs.com/support for more info.\n",
                        "npm warn deprecated @xmldom/xmldom@0.7.13: this version is no longer supported, please update to at least 0.8.*\n",
                        "npm warn deprecated sudo-prompt@8.2.5: Package no longer supported. Contact Support at https://www.npmjs.com/support for more info.\n",
                        "npm warn deprecated uuid@3.4.0: Please upgrade  to version 7 or higher.  Older versions may use Math.random() in certain circumstances, which is known to be problematic.  See https://v8.dev/blog/math-random for details.\n",
                        "npm warn deprecated uuid@3.4.0: Please upgrade  to version 7 or higher.  Older versions may use Math.random() in certain circumstances, which is known to be problematic.  See https://v8.dev/blog/math-random for details.\n",
                        "npm warn deprecated uuid@3.4.0: Please upgrade  to version 7 or higher.  Older versions may use Math.random() in certain circumstances, which is known to be problematic.  See https://v8.dev/blog/math-random for details.\n"
                    ]
                }
            ],
            "source": [
                "!npm install -g expo-cli"
            ]
        },
        {
            "cell_type": "markdown",
            "metadata": {},
            "source": [
                "## 2. Creación del Proyecto con TypeScript\n",
                "Ahora, crea un nuevo proyecto con el template de TypeScript:"
            ]
        },
        {
            "cell_type": "code",
            "execution_count": 2,
            "metadata": {
                "vscode": {
                    "languageId": "bat"
                }
            },
            "outputs": [
                {
                    "name": "stdout",
                    "output_type": "stream",
                    "text": [
                        "- \u001b[1mDownloading template.\u001b[22m\n",
                        "\u001b[32m√\u001b[39m Downloaded template.\n",
                        "\u001b[90m[09:04:28]\u001b[39m 📦 Using npm to install packages.\n",
                        "- \u001b[1mInstalling JavaScript dependencies.\u001b[22m\n",
                        "\u001b[32m√\u001b[39m Installed JavaScript dependencies.\n",
                        "\n",
                        "\u001b[1m✅ Your project is ready!\u001b[22m\n",
                        "\n",
                        "To run your project, navigate to the directory and run one of the following npm commands.\n",
                        "\n",
                        "- \u001b[1mcd MiProyecto\u001b[22m\n",
                        "- \u001b[1mnpm start\u001b[22m \u001b[2m# you can open iOS, Android, or web from here, or run them directly with the commands below.\u001b[22m\n",
                        "- \u001b[1mnpm run android\u001b[22m\n",
                        "- \u001b[1mnpm run ios\u001b[22m # requires an iOS device or macOS for access to an iOS simulator\n",
                        "- \u001b[1mnpm run web\u001b[22m\n",
                        "\u001b[90m[09:07:41]\u001b[39m \u001b[90mProject is already inside of a git repo, skipping \u001b[1mgit init\u001b[22m.\u001b[39m\n"
                    ]
                },
                {
                    "name": "stderr",
                    "output_type": "stream",
                    "text": [
                        "\u001b[33mWARNING: The legacy expo-cli does not support Node +17. Migrate to the new local Expo CLI: https://blog.expo.dev/the-new-expo-cli-f4250d8e3421.\u001b[39m\n",
                        "(node:14568) [DEP0040] DeprecationWarning: The `punycode` module is deprecated. Please use a userland alternative instead.\n",
                        "(Use `node --trace-deprecation ...` to show where the warning was created)\n",
                        "\u001b[33m[09:03:59]\u001b[39m \u001b[33m\u001b[39m\n",
                        "\u001b[33mMigrate to using:\u001b[39m\n",
                        "\u001b[33m› \u001b[1mnpx create-expo-app --template\u001b[22m\u001b[39m\n",
                        "\u001b[33m\u001b[39m\n"
                    ]
                }
            ],
            "source": [
                "!expo init MiProyecto --template expo-template-blank-typescript"
            ]
        },
        {
            "cell_type": "markdown",
            "metadata": {},
            "source": [
                "## 3. Navegar al Proyecto\n",
                "Después de crear el proyecto, copie el contenido de la carpeta nueva en la raiz desde donde se ejecutan los comandos:"
            ]
        },
        {
            "cell_type": "code",
            "execution_count": null,
            "metadata": {},
            "outputs": [],
            "source": [
                "!cd MiProyecto"
            ]
        },
        {
            "cell_type": "markdown",
            "metadata": {},
            "source": [
                "## 4. Iniciar el Servidor de Desarrollo\n",
                "Ejecuta el siguiente comando para iniciar Expo y probar la aplicación en un emulador o dispositivo físico:"
            ]
        },
        {
            "cell_type": "code",
            "execution_count": 4,
            "metadata": {
                "vscode": {
                    "languageId": "bat"
                }
            },
            "outputs": [
                {
                    "name": "stdout",
                    "output_type": "stream",
                    "text": [
                        "^C\n"
                    ]
                },
                {
                    "name": "stdout",
                    "output_type": "stream",
                    "text": [
                        "\u001b[90mStarting project at c:\\Users\\USUARIO\\Documents\\GitHub\\vibra-web-mb\u001b[39m\n",
                        "\u001b[2mStarting Metro Bundler\u001b[22m\n",
                        "Waiting on \u001b[4mhttp://localhost:8081\u001b[24m\n",
                        "Logs for your project will appear below.\n"
                    ]
                },
                {
                    "name": "stderr",
                    "output_type": "stream",
                    "text": [
                        "\u001b[33mThe following packages should be updated for best compatibility with the installed \u001b[1mexpo\u001b[22m version:\u001b[39m\n",
                        "\u001b[33m  \u001b[1mreact-native-gesture-handler\u001b[22m\u001b[36m@\u001b[39m\u001b[33m\u001b[31m2.23.1\u001b[39m\u001b[33m - expected version: \u001b[32m~2.20.2\u001b[39m\u001b[33m\u001b[39m\n",
                        "\u001b[33m  \u001b[1mreact-native-safe-area-context\u001b[22m\u001b[36m@\u001b[39m\u001b[33m\u001b[31m5.2.0\u001b[39m\u001b[33m - expected version: \u001b[32m4.12.0\u001b[39m\u001b[33m\u001b[39m\n",
                        "\u001b[33m  \u001b[1mreact-native-screens\u001b[22m\u001b[36m@\u001b[39m\u001b[33m\u001b[31m4.6.0\u001b[39m\u001b[33m - expected version: \u001b[32m~4.4.0\u001b[39m\u001b[33m\u001b[39m\n",
                        "\u001b[33mYour project may not work correctly until you install the expected versions of the packages.\u001b[39m\n"
                    ]
                }
            ],
            "source": [
                "!npx expo start"
            ]
        },
        {
            "cell_type": "markdown",
            "metadata": {
                "vscode": {
                    "languageId": "bat"
                }
            },
            "source": [
                "## 5. Agregar Dependencias Recomendadas\n",
                "Instalemos algunas dependencias útiles para trabajar con TypeScript en React Native:"
            ]
        },
        {
            "cell_type": "code",
            "execution_count": null,
            "metadata": {
                "vscode": {
                    "languageId": "bat"
                }
            },
            "outputs": [
                {
                    "name": "stdout",
                    "output_type": "stream",
                    "text": [
                        "\n",
                        "added 27 packages, and audited 892 packages in 43s\n",
                        "\n",
                        "73 packages are looking for funding\n",
                        "  run `npm fund` for details\n",
                        "\n",
                        "found 0 vulnerabilities\n"
                    ]
                }
            ],
            "source": [
                "!npx expo install react-dom react-native-web @expo/metro-runtime @react-navigation/native react-native-gesture-handler react-native-reanimated react-native-screens react-native-safe-area-context @react-navigation/stack"
            ]
        },
        {
            "cell_type": "markdown",
            "metadata": {},
            "source": [
                "## 6. Estructura del Proyecto\n",
                "Un proyecto típico en React Native con TypeScript tiene la siguiente estructura:\n",
                "```\n",
                "MiProyecto/\n",
                " ├── App.tsx\n",
                " ├── package.json\n",
                " ├── tsconfig.json\n",
                " ├── node_modules/\n",
                " ├── assets/\n",
                " ├── components/\n",
                " ├── screens/\n",
                " ├── navigation/\n",
                "```\n",
                "Puedes organizar tu código creando carpetas como `components` para componentes reutilizables y `screens` para las pantallas principales."
            ]
        },
        {
            "cell_type": "code",
            "execution_count": null,
            "metadata": {
                "vscode": {
                    "languageId": "bat"
                }
            },
            "outputs": [],
            "source": []
        }
    ],
    "metadata": {
        "kernelspec": {
            "display_name": "Python 3",
            "language": "python",
            "name": "python3"
        },
        "language_info": {
            "codemirror_mode": {
                "name": "ipython",
                "version": 3
            },
            "file_extension": ".py",
            "mimetype": "text/x-python",
            "name": "python",
            "nbconvert_exporter": "python",
            "pygments_lexer": "ipython3",
            "version": "3.13.2"
        }
    },
    "nbformat": 4,
    "nbformat_minor": 4
}
